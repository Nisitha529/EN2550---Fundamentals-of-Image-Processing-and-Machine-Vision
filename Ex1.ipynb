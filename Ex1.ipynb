{
 "cells": [
  {
   "cell_type": "markdown",
   "metadata": {},
   "source": [
    "Name : Silva G.B.N.M.\\\\\n",
    "Index No : 190592X"
   ]
  },
  {
   "cell_type": "code",
   "execution_count": 17,
   "metadata": {},
   "outputs": [],
   "source": [
    "import numpy as np\n",
    "import sympy\n",
    "import matplotlib.pyplot as plt\n",
    "import cv2 as cv\n",
    "from numpy import linalg"
   ]
  },
  {
   "cell_type": "markdown",
   "metadata": {},
   "source": [
    "(1)"
   ]
  },
  {
   "cell_type": "code",
   "execution_count": 9,
   "metadata": {},
   "outputs": [
    {
     "name": "stdout",
     "output_type": "stream",
     "text": [
      "1:1\n",
      "2:4\n",
      "3:9\n",
      "4:16\n",
      "5:25\n"
     ]
    }
   ],
   "source": [
    "endnum = 5\n",
    "for i in range(1,endnum+1):\n",
    "  print(str(i) + \":\"+ str(i**2))"
   ]
  },
  {
   "cell_type": "markdown",
   "metadata": {},
   "source": [
    "(2)"
   ]
  },
  {
   "cell_type": "code",
   "execution_count": 10,
   "metadata": {},
   "outputs": [
    {
     "name": "stdout",
     "output_type": "stream",
     "text": [
      "1:1\n",
      "4:16\n"
     ]
    }
   ],
   "source": [
    "\n",
    "for i in range(1,endnum+1):\n",
    "  if not sympy.isprime(i):\n",
    "    print(str(i) + \":\"+ str(i**2))"
   ]
  },
  {
   "cell_type": "markdown",
   "metadata": {},
   "source": [
    "(3)"
   ]
  },
  {
   "cell_type": "code",
   "execution_count": 11,
   "metadata": {},
   "outputs": [
    {
     "name": "stdout",
     "output_type": "stream",
     "text": [
      "1 : 1\n",
      "2 : 4\n",
      "3 : 9\n",
      "4 : 16\n"
     ]
    }
   ],
   "source": [
    "squares = [i**2 for i in range(1,endnum)]\n",
    "for i,i2 in enumerate(squares):\n",
    "  print(i+1,\":\",squares[i])"
   ]
  },
  {
   "cell_type": "markdown",
   "metadata": {},
   "source": [
    "(4)"
   ]
  },
  {
   "cell_type": "code",
   "execution_count": 7,
   "metadata": {},
   "outputs": [
    {
     "name": "stdout",
     "output_type": "stream",
     "text": [
      "[1, 16]\n"
     ]
    }
   ],
   "source": [
    "non_prime_squares = [i**2 for i in range(1,endnum) if not sympy.isprime(i)]\n",
    "print(non_prime_squares)"
   ]
  },
  {
   "cell_type": "markdown",
   "metadata": {},
   "source": [
    "5 (a)"
   ]
  },
  {
   "cell_type": "code",
   "execution_count": 4,
   "metadata": {},
   "outputs": [
    {
     "name": "stdout",
     "output_type": "stream",
     "text": [
      "[[ 9 12 15  9]\n",
      " [25 32 39 19]\n",
      " [41 52 63 29]]\n"
     ]
    }
   ],
   "source": [
    "A = np.array([[1,2],[3,4],[5,6]])\n",
    "B = np.array([[7,8,9,1],[1,2,3,4]])\n",
    "C = np.dot(A,B)\n",
    "print(C)"
   ]
  },
  {
   "cell_type": "markdown",
   "metadata": {},
   "source": [
    "5 (b)"
   ]
  },
  {
   "cell_type": "code",
   "execution_count": 5,
   "metadata": {},
   "outputs": [
    {
     "name": "stdout",
     "output_type": "stream",
     "text": [
      "[[ 3  4]\n",
      " [15 16]\n",
      " [15  6]]\n"
     ]
    }
   ],
   "source": [
    "B_1 = np.array([[3,2],[5,4],[3,1]])\n",
    "C_1 = np.multiply(A,B_1)\n",
    "print(C_1)"
   ]
  },
  {
   "cell_type": "code",
   "execution_count": null,
   "metadata": {},
   "outputs": [],
   "source": [
    "(6)"
   ]
  },
  {
   "cell_type": "code",
   "execution_count": 82,
   "metadata": {},
   "outputs": [
    {
     "name": "stdout",
     "output_type": "stream",
     "text": [
      "[[4 3 6 6 1 5 3]\n",
      " [2 4 6 2 2 8 8]\n",
      " [5 4 1 8 8 7 4]\n",
      " [0 9 0 7 9 4 6]\n",
      " [5 0 2 3 9 3 4]]\n",
      "[[2 4]\n",
      " [5 4]]\n"
     ]
    }
   ],
   "source": [
    "D = np.random.randint(10, size=(5,7))    \n",
    "D_extrc = D[1:3,0:2]\n",
    "print(D)\n",
    "print(D_extrc)"
   ]
  },
  {
   "cell_type": "markdown",
   "metadata": {},
   "source": [
    "Size = 2x2"
   ]
  },
  {
   "cell_type": "markdown",
   "metadata": {},
   "source": [
    "(7) Three examples of Broadcasting\n",
    "    1. Compression \n",
    "    2. Addition and multiplication of different shape arrays\n",
    "    3."
   ]
  },
  {
   "cell_type": "markdown",
   "metadata": {},
   "source": [
    "8 (a)"
   ]
  },
  {
   "cell_type": "code",
   "execution_count": 61,
   "metadata": {},
   "outputs": [
    {
     "data": {
      "image/png": "[encoded data removed]",
      "text/plain": [
       "<Figure size 432x288 with 1 Axes>"
      ]
     },
     "metadata": {
      "needs_background": "light"
     },
     "output_type": "display_data"
    }
   ],
   "source": [
    "m,c =2, -4\n",
    "N = 100\n",
    "x = np.linspace(0,N-1,N).reshape(N,1)\n",
    "sigma = 10\n",
    "y = m*x +c + np.random.normal(0,sigma,(N,1))\n",
    "plt.scatter(x,y)\n",
    "\n",
    "X = np.append(np.ones((N,1)),x,axis=1)"
   ]
  },
  {
   "cell_type": "markdown",
   "metadata": {},
   "source": [
    "8 (c)"
   ]
  },
  {
   "cell_type": "code",
   "execution_count": 62,
   "metadata": {},
   "outputs": [
    {
     "name": "stdout",
     "output_type": "stream",
     "text": [
      "[[-4.08818654]\n",
      " [ 1.97414878]]\n"
     ]
    }
   ],
   "source": [
    "w = linalg.inv(X.T @ X) @ X.T @ y\n",
    "print(w)"
   ]
  },
  {
   "cell_type": "markdown",
   "metadata": {},
   "source": [
    "(10)"
   ]
  },
  {
   "cell_type": "code",
   "execution_count": 50,
   "metadata": {},
   "outputs": [],
   "source": [
    "im = cv.imread(r'gal_gaussian.png')\n",
    "try:\n",
    "    assert im is not None\n",
    "    blur = cv.GaussianBlur(im,(5,5),0)\n",
    "    cv.namedWindow('Image',cv.WINDOW_AUTOSIZE)\n",
    "    cv.imshow('Image',im)\n",
    "    cv.waitKey(0)\n",
    "    cv.imshow('Image',blur)\n",
    "    cv.waitKey(0)\n",
    "    cv.destroyAllWindows()\n",
    "except AssertionError as msg:\n",
    "    print(msg)"
   ]
  },
  {
   "cell_type": "markdown",
   "metadata": {},
   "source": [
    "(11)"
   ]
  },
  {
   "cell_type": "code",
   "execution_count": 83,
   "metadata": {},
   "outputs": [],
   "source": [
    "im2 = cv.imread(r'gal_sandp.png')\n",
    "try:\n",
    "    assert im2 is not None\n",
    "    sandp = cv.medianBlur(im2,5)\n",
    "    cv.namedWindow('Image',cv.WINDOW_AUTOSIZE)\n",
    "    cv.imshow('Image',im2)\n",
    "    cv.waitKey(0)\n",
    "    cv.imshow('Image',sandp)\n",
    "    cv.waitKey(0)\n",
    "    cv.destroyAllWindows()    \n",
    "except AssertionError as msg:\n",
    "    print(msg)"
   ]
  },
  {
   "cell_type": "markdown",
   "metadata": {},
   "source": [
    "(12)"
   ]
  },
  {
   "cell_type": "code",
   "execution_count": 69,
   "metadata": {},
   "outputs": [],
   "source": [
    "im3 = np.zeros((40,60),dtype=np.uint8)\n",
    "cv.namedWindow('Image',cv.WINDOW_AUTOSIZE)\n",
    "cv.imshow('Image',im3)\n",
    "cv.waitKey(0)\n",
    "cv.destroyAllWindows()   "
   ]
  },
  {
   "cell_type": "code",
   "execution_count": 70,
   "metadata": {},
   "outputs": [
    {
     "data": {
      "image/png": "[encoded data removed]",
      "text/plain": [
       "<Figure size 432x288 with 1 Axes>"
      ]
     },
     "metadata": {
      "needs_background": "light"
     },
     "output_type": "display_data"
    }
   ],
   "source": [
    "im3[0:21,30:61] =125\n",
    "\n",
    "fig,ax = plt.subplots()\n",
    "ax.imshow(im3,cmap='gray',vmin=0,vmax=255)\n",
    "plt.show()"
   ]
  },
  {
   "cell_type": "markdown",
   "metadata": {},
   "source": [
    "(13)"
   ]
  },
  {
   "cell_type": "code",
   "execution_count": 86,
   "metadata": {},
   "outputs": [
    {
     "data": {
      "image/png": "[encoded data removed]",
      "text/plain": [
       "<Figure size 432x288 with 1 Axes>"
      ]
     },
     "metadata": {
      "needs_background": "light"
     },
     "output_type": "display_data"
    }
   ],
   "source": [
    "im4 = np.random.randint(1,255,(40,60,3),dtype=np.uint8)\n",
    "cv.namedWindow('Image',cv.WINDOW_AUTOSIZE)\n",
    "cv.imshow('Image',im4)\n",
    "cv.waitKey(0)\n",
    "cv.destroyAllWindows()   \n",
    "\n",
    "im4[20:41,0:30,0] = 218\n",
    "im4[20:41,0:30,1] = 24\n",
    "im4[20:41,0:30,2] = 132\n",
    "fig,ax = plt.subplots()\n",
    "ax.imshow(im4,cmap='RdPu',vmin=0,vmax=255)\n",
    "plt.show()"
   ]
  },
  {
   "cell_type": "markdown",
   "metadata": {},
   "source": [
    "(14)"
   ]
  },
  {
   "cell_type": "code",
   "execution_count": 84,
   "metadata": {},
   "outputs": [],
   "source": [
    "im5 = cv.imread(r'tom_dark.jpg')\n",
    "alpha , beta = 2 , 1\n",
    "bright_img = np.zeros(im5.shape,im5.dtype)\n",
    "try:\n",
    "    assert im5 is not None\n",
    "    cv.namedWindow('Image',cv.WINDOW_AUTOSIZE)\n",
    "    cv.imshow('Image',im5)\n",
    "    cv.waitKey(0)\n",
    "    for y in range(im5.shape[0]):\n",
    "        for x in range(im5.shape[1]):\n",
    "            for c in range(im5.shape[2]):\n",
    "                bright_img[y,x,c] = np.clip(alpha*im5[y,x,c]+beta,0,255)\n",
    "    cv.imshow('Image',bright_img)\n",
    "    cv.waitKey(0)\n",
    "    cv.destroyAllWindows()    \n",
    "except AssertionError as msg:\n",
    "    print(msg)"
   ]
  }
 ],
 "metadata": {
  "interpreter": {
   "hash": "d691c7667a78d7c83e7ded8fc00b6548b911b68d74e5ba1f59c625dac0ff95c6"
  },
  "kernelspec": {
   "display_name": "Python 3.7.5 64-bit ('test': virtualenv)",
   "language": "python",
   "name": "python3"
  },
  "language_info": {
   "codemirror_mode": {
    "name": "ipython",
    "version": 3
   },
   "file_extension": ".py",
   "mimetype": "text/x-python",
   "name": "python",
   "nbconvert_exporter": "python",
   "pygments_lexer": "ipython3",
   "version": "3.7.5"
  },
  "orig_nbformat": 4
 },
 "nbformat": 4,
 "nbformat_minor": 2
}
